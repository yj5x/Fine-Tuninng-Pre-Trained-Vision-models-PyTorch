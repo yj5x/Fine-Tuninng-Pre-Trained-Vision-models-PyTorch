{
  "nbformat": 4,
  "nbformat_minor": 0,
  "metadata": {
    "colab": {
      "private_outputs": true,
      "provenance": [],
      "authorship_tag": "ABX9TyN9zPOx54FZpY3j94bK0/mB",
      "include_colab_link": true
    },
    "kernelspec": {
      "name": "python3",
      "display_name": "Python 3"
    },
    "language_info": {
      "name": "python"
    }
  },
  "cells": [
    {
      "cell_type": "markdown",
      "metadata": {
        "id": "view-in-github",
        "colab_type": "text"
      },
      "source": [
        "<a href=\"https://colab.research.google.com/github/yj5x/Fine-Tuninng-Pre-Trained-Vision-models-PyTorch/blob/master/Task7.ipynb\" target=\"_parent\"><img src=\"https://colab.research.google.com/assets/colab-badge.svg\" alt=\"Open In Colab\"/></a>"
      ]
    },
    {
      "cell_type": "code",
      "execution_count": null,
      "metadata": {
        "id": "wLibbDIoSVBk"
      },
      "outputs": [],
      "source": []
    },
    {
      "cell_type": "code",
      "source": [
        "!pip install scikeras\n",
        "!pip install kaggle\n",
        "!mkdir -p ~/.kaggle\n",
        "!cp kaggle.json ~/.kaggle/\n",
        "!chmod 600 ~/.kaggle/kaggle.json\n",
        "!kaggle datasets download -d snap/amazon-fine-food-reviews -f Reviews.csv --unzip"
      ],
      "metadata": {
        "id": "KmO3JEZ9KFfk"
      },
      "execution_count": null,
      "outputs": []
    },
    {
      "cell_type": "code",
      "metadata": {
        "id": "fQRThmu9Ma2k"
      },
      "source": [
        "# استيراد المكتبات المطلوبة\n",
        "!pip install scikeras\n",
        "\n",
        "import os\n",
        "import kagglehub\n",
        "import pandas as pd\n",
        "import numpy as np\n",
        "import matplotlib.pyplot as plt\n",
        "from sklearn.model_selection import train_test_split\n",
        "from sklearn.preprocessing import LabelEncoder\n",
        "from tensorflow.keras.preprocessing.text import Tokenizer\n",
        "from tensorflow.keras.preprocessing.sequence import pad_sequences\n",
        "from tensorflow.keras.models import Sequential\n",
        "from tensorflow.keras.layers import Embedding, LSTM, Dense, Dropout, Conv1D, GlobalMaxPooling1D\n",
        "from sklearn.metrics import classification_report, confusion_matrix\n",
        "import seaborn as sns\n",
        "import re\n",
        "\n",
        "# تنزيل أحدث إصدار من مجموعة البيانات\n",
        "path = kagglehub.dataset_download(\"snap/amazon-fine-food-reviews\")\n",
        "print(\"Path to dataset files:\", path)\n"
      ],
      "execution_count": null,
      "outputs": []
    },
    {
      "cell_type": "code",
      "source": [
        "\n",
        "# تحميل البيانات\n",
        "data = pd.read_csv(os.path.join(path, \"Reviews.csv\"))\n",
        "\n",
        "# استكشاف البيانات\n",
        "# عدد الصفوف والأعمدة\n",
        "print(\"عدد الصفوف والأعمدة:\", data.shape)\n",
        "\n",
        "print()\n",
        "print()\n",
        "\n",
        "# أول 5 صفوف من البيانات\n",
        "display(data.head())\n",
        "\n",
        "print()\n",
        "print()\n",
        "\n",
        "# نظره على أنواع البيانات والقيم المفقوده\n",
        "data.info()\n",
        "\n",
        "print()\n",
        "print()\n",
        "\n",
        "# نظره على محتوى كل عمود\n",
        "for col in data.columns:\n",
        "    display(f\"{col}: {data[col].unique()[:5]}\")\n",
        "    print()\n",
        "    print()"
      ],
      "metadata": {
        "id": "fJnjfJiKSet9"
      },
      "execution_count": null,
      "outputs": []
    },
    {
      "cell_type": "code",
      "source": [
        "import re\n",
        "# تحضير البيانات\n",
        "data['label'] = data['Score'].apply(lambda x: 1 if x >= 4 else 0)  # 1 للإيجابية، 0 للسلبية\n",
        "data = data[data['Score'] != 3]  # حذف مراجعات الثلاث نجوم\n",
        "\n",
        "# تنظيف البيانات\n",
        "def clean_text(text):\n",
        "    # إزالة علامات الترقيم\n",
        "    text = re.sub(r'[^\\w\\s]', '', text)\n",
        "    # استبدال الأرقام\n",
        "    text = re.sub(r'\\d+', '#', text)\n",
        "    # تحويل النص إلى lowercase\n",
        "    return text.lower()\n",
        "\n",
        "data['Text'] = data['Text'].apply(clean_text)\n",
        "\n",
        "# معالجة النص\n",
        "X = data['Text'].values\n",
        "y = data['label'].values\n",
        "tokenizer = Tokenizer(num_words=5000)\n",
        "tokenizer.fit_on_texts(X)\n",
        "X_seq = tokenizer.texts_to_sequences(X)\n",
        "X_pad = pad_sequences(X_seq, padding='post')"
      ],
      "metadata": {
        "id": "CB5N1141SjrM"
      },
      "execution_count": null,
      "outputs": []
    },
    {
      "cell_type": "code",
      "source": [
        "# تقليص طول المدخلات\n",
        "max_length = 100  # أو 150 حسب الحاجة\n",
        "X_pad = pad_sequences(X_seq, maxlen=max_length, padding='post')\n",
        "\n",
        "# تقسيم البيانات\n",
        "X_train, X_test, y_train, y_test = train_test_split(X_pad, y, test_size=0.2, random_state=42)\n",
        "\n",
        "# بناء النموذج\n",
        "model = Sequential()\n",
        "model.add(Embedding(input_dim=5000, output_dim=128, input_length=max_length))\n",
        "\n",
        "# بناء النموذج\n",
        "model = Sequential()\n",
        "model.add(Embedding(input_dim=5000, output_dim=128, input_length=X_pad.shape[1]))\n",
        "model.add(Conv1D(filters=128, kernel_size=5, activation='relu'))\n",
        "model.add(GlobalMaxPooling1D())\n",
        "model.add(Dense(10, activation='relu'))\n",
        "model.add(Dropout(0.5))\n",
        "model.add(Dense(1, activation='sigmoid'))\n",
        "\n",
        "# تجميع النموذج\n",
        "model.compile(optimizer='adam', loss='binary_crossentropy', metrics=['accuracy'])\n",
        "\n",
        "# تدريب النموذج\n",
        "history = model.fit(X_train, y_train, epochs=10, batch_size=64, validation_split=0.2)\n"
      ],
      "metadata": {
        "id": "pF0PnrnESrqk"
      },
      "execution_count": null,
      "outputs": []
    },
    {
      "cell_type": "code",
      "source": [
        "\n",
        "# تقييم النموذج\n",
        "y_pred = model.predict(X_test)\n",
        "y_pred_classes = (y_pred > 0.5).astype(int)\n",
        "\n",
        "# طباعة تقرير التصنيف\n",
        "print(classification_report(y_test, y_pred_classes))\n",
        "\n",
        "# مصفوفة الارتباك\n",
        "conf_matrix = confusion_matrix(y_test, y_pred_classes)\n",
        "sns.heatmap(conf_matrix, annot=True, fmt='d')\n",
        "plt.title('Confusion Matrix')\n",
        "plt.xlabel('Predicted')\n",
        "plt.ylabel('True')\n",
        "plt.show()"
      ],
      "metadata": {
        "id": "qNEWAjTnSvkE"
      },
      "execution_count": null,
      "outputs": []
    },
    {
      "cell_type": "code",
      "source": [
        "import matplotlib.pyplot as plt\n",
        "from sklearn.metrics import roc_curve, auc\n",
        "\n",
        "# الحصول على التوقعات الاحتمالية\n",
        "y_pred_prob = model.predict(X_test).ravel()  # استخدام .ravel() لتحويلها إلى مصفوفة أحادية\n",
        "\n",
        "# حساب TPR وFPR\n",
        "fpr, tpr, thresholds = roc_curve(y_test, y_pred_prob)\n",
        "roc_auc = auc(fpr, tpr)  # حساب المساحة تحت المنحنى\n",
        "\n",
        "# رسم منحنى ROC\n",
        "plt.figure()\n",
        "plt.plot(fpr, tpr, color='blue', lw=2, label='ROC curve (area = %0.2f)' % roc_auc)\n",
        "plt.plot([0, 1], [0, 1], color='red', lw=2, linestyle='--')\n",
        "plt.xlim([0.0, 1.0])\n",
        "plt.ylim([0.0, 1.05])\n",
        "plt.xlabel('False Positive Rate')\n",
        "plt.ylabel('True Positive Rate')\n",
        "plt.title('Receiver Operating Characteristic')\n",
        "plt.legend(loc=\"lower right\")\n",
        "plt.show()"
      ],
      "metadata": {
        "id": "fxPmMzLrqWWY"
      },
      "execution_count": null,
      "outputs": []
    }
  ]
}